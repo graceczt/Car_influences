{
 "cells": [
  {
   "cell_type": "markdown",
   "id": "51c8f5cf",
   "metadata": {},
   "source": [
    "## Logistic Regression: how would Salary, Age & Gender influence one to buy a Car ?"
   ]
  },
  {
   "cell_type": "code",
   "execution_count": 71,
   "id": "68bcb9e4",
   "metadata": {},
   "outputs": [],
   "source": [
    "import pandas as pd\n",
    "import matplotlib.pyplot as plt\n",
    "import numpy as  np\n",
    "import seaborn as sns\n",
    "\n",
    "from sklearn.model_selection import train_test_split,cross_val_score\n",
    "from sklearn.linear_model import LogisticRegression\n",
    "from sklearn.preprocessing import StandardScaler\n",
    "from sklearn import metrics\n",
    "\n",
    "from sklearn.neighbors import KNeighborsClassifier \n",
    "from sklearn.metrics import confusion_matrix\n",
    "\n",
    "%matplotlib inline\n",
    "\n"
   ]
  },
  {
   "cell_type": "code",
   "execution_count": 72,
   "id": "614688bd",
   "metadata": {},
   "outputs": [],
   "source": [
    "cars = pd.read_csv('/Users/gracechongzuting/Downloads/car_data.csv')"
   ]
  },
  {
   "cell_type": "code",
   "execution_count": 73,
   "id": "0e3a5aef",
   "metadata": {},
   "outputs": [
    {
     "data": {
      "text/plain": [
       "(1000, 5)"
      ]
     },
     "execution_count": 73,
     "metadata": {},
     "output_type": "execute_result"
    }
   ],
   "source": [
    "cars.shape"
   ]
  },
  {
   "cell_type": "code",
   "execution_count": null,
   "id": "56a2aab9",
   "metadata": {},
   "outputs": [
    {
     "name": "stdout",
     "output_type": "stream",
     "text": [
      "<class 'pandas.core.frame.DataFrame'>\n",
      "RangeIndex: 1000 entries, 0 to 999\n",
      "Data columns (total 5 columns):\n",
      " #   Column        Non-Null Count  Dtype \n",
      "---  ------        --------------  ----- \n",
      " 0   User ID       1000 non-null   int64 \n",
      " 1   Gender        1000 non-null   object\n",
      " 2   Age           1000 non-null   int64 \n",
      " 3   AnnualSalary  1000 non-null   int64 \n",
      " 4   Purchased     1000 non-null   int64 \n",
      "dtypes: int64(4), object(1)\n",
      "memory usage: 39.2+ KB\n"
     ]
    }
   ],
   "source": [
    "cars.info()"
   ]
  },
  {
   "cell_type": "code",
   "execution_count": null,
   "id": "abf87b12",
   "metadata": {},
   "outputs": [
    {
     "data": {
      "text/plain": [
       "User ID         0\n",
       "Gender          0\n",
       "Age             0\n",
       "AnnualSalary    0\n",
       "Purchased       0\n",
       "dtype: int64"
      ]
     },
     "execution_count": 40,
     "metadata": {},
     "output_type": "execute_result"
    }
   ],
   "source": [
    "cars.isnull().sum()"
   ]
  },
  {
   "cell_type": "code",
   "execution_count": null,
   "id": "80bd6304",
   "metadata": {},
   "outputs": [
    {
     "name": "stdout",
     "output_type": "stream",
     "text": [
      "User ID has 0.0% null\n",
      "Gender has 0.0% null\n",
      "Age has 0.0% null\n",
      "AnnualSalary has 0.0% null\n",
      "Purchased has 0.0% null\n"
     ]
    }
   ],
   "source": [
    "for column in cars.columns:\n",
    "    check_null = np.mean(cars[column].isnull())\n",
    "    print(f'{column} has {check_null}% null')"
   ]
  },
  {
   "cell_type": "code",
   "execution_count": null,
   "id": "b6621ec2",
   "metadata": {},
   "outputs": [
    {
     "data": {
      "text/html": [
       "<div>\n",
       "<style scoped>\n",
       "    .dataframe tbody tr th:only-of-type {\n",
       "        vertical-align: middle;\n",
       "    }\n",
       "\n",
       "    .dataframe tbody tr th {\n",
       "        vertical-align: top;\n",
       "    }\n",
       "\n",
       "    .dataframe thead th {\n",
       "        text-align: right;\n",
       "    }\n",
       "</style>\n",
       "<table border=\"1\" class=\"dataframe\">\n",
       "  <thead>\n",
       "    <tr style=\"text-align: right;\">\n",
       "      <th></th>\n",
       "      <th>User ID</th>\n",
       "      <th>Gender</th>\n",
       "      <th>Age</th>\n",
       "      <th>AnnualSalary</th>\n",
       "      <th>Purchased</th>\n",
       "    </tr>\n",
       "  </thead>\n",
       "  <tbody>\n",
       "    <tr>\n",
       "      <th>0</th>\n",
       "      <td>385</td>\n",
       "      <td>Male</td>\n",
       "      <td>35</td>\n",
       "      <td>20000</td>\n",
       "      <td>0</td>\n",
       "    </tr>\n",
       "    <tr>\n",
       "      <th>1</th>\n",
       "      <td>681</td>\n",
       "      <td>Male</td>\n",
       "      <td>40</td>\n",
       "      <td>43500</td>\n",
       "      <td>0</td>\n",
       "    </tr>\n",
       "    <tr>\n",
       "      <th>2</th>\n",
       "      <td>353</td>\n",
       "      <td>Male</td>\n",
       "      <td>49</td>\n",
       "      <td>74000</td>\n",
       "      <td>0</td>\n",
       "    </tr>\n",
       "    <tr>\n",
       "      <th>3</th>\n",
       "      <td>895</td>\n",
       "      <td>Male</td>\n",
       "      <td>40</td>\n",
       "      <td>107500</td>\n",
       "      <td>1</td>\n",
       "    </tr>\n",
       "    <tr>\n",
       "      <th>4</th>\n",
       "      <td>661</td>\n",
       "      <td>Male</td>\n",
       "      <td>25</td>\n",
       "      <td>79000</td>\n",
       "      <td>0</td>\n",
       "    </tr>\n",
       "  </tbody>\n",
       "</table>\n",
       "</div>"
      ],
      "text/plain": [
       "   User ID Gender  Age  AnnualSalary  Purchased\n",
       "0      385   Male   35         20000          0\n",
       "1      681   Male   40         43500          0\n",
       "2      353   Male   49         74000          0\n",
       "3      895   Male   40        107500          1\n",
       "4      661   Male   25         79000          0"
      ]
     },
     "execution_count": 42,
     "metadata": {},
     "output_type": "execute_result"
    }
   ],
   "source": [
    "cars.head()"
   ]
  },
  {
   "cell_type": "code",
   "execution_count": null,
   "id": "95b721a2",
   "metadata": {},
   "outputs": [],
   "source": [
    "cars.drop(columns='User ID', inplace=True)"
   ]
  },
  {
   "cell_type": "code",
   "execution_count": null,
   "id": "655263d3",
   "metadata": {},
   "outputs": [
    {
     "data": {
      "text/html": [
       "<div>\n",
       "<style scoped>\n",
       "    .dataframe tbody tr th:only-of-type {\n",
       "        vertical-align: middle;\n",
       "    }\n",
       "\n",
       "    .dataframe tbody tr th {\n",
       "        vertical-align: top;\n",
       "    }\n",
       "\n",
       "    .dataframe thead th {\n",
       "        text-align: right;\n",
       "    }\n",
       "</style>\n",
       "<table border=\"1\" class=\"dataframe\">\n",
       "  <thead>\n",
       "    <tr style=\"text-align: right;\">\n",
       "      <th></th>\n",
       "      <th>Gender</th>\n",
       "      <th>Age</th>\n",
       "      <th>AnnualSalary</th>\n",
       "      <th>Purchased</th>\n",
       "    </tr>\n",
       "  </thead>\n",
       "  <tbody>\n",
       "    <tr>\n",
       "      <th>0</th>\n",
       "      <td>Male</td>\n",
       "      <td>35</td>\n",
       "      <td>20000</td>\n",
       "      <td>0</td>\n",
       "    </tr>\n",
       "    <tr>\n",
       "      <th>1</th>\n",
       "      <td>Male</td>\n",
       "      <td>40</td>\n",
       "      <td>43500</td>\n",
       "      <td>0</td>\n",
       "    </tr>\n",
       "    <tr>\n",
       "      <th>2</th>\n",
       "      <td>Male</td>\n",
       "      <td>49</td>\n",
       "      <td>74000</td>\n",
       "      <td>0</td>\n",
       "    </tr>\n",
       "    <tr>\n",
       "      <th>3</th>\n",
       "      <td>Male</td>\n",
       "      <td>40</td>\n",
       "      <td>107500</td>\n",
       "      <td>1</td>\n",
       "    </tr>\n",
       "    <tr>\n",
       "      <th>4</th>\n",
       "      <td>Male</td>\n",
       "      <td>25</td>\n",
       "      <td>79000</td>\n",
       "      <td>0</td>\n",
       "    </tr>\n",
       "  </tbody>\n",
       "</table>\n",
       "</div>"
      ],
      "text/plain": [
       "  Gender  Age  AnnualSalary  Purchased\n",
       "0   Male   35         20000          0\n",
       "1   Male   40         43500          0\n",
       "2   Male   49         74000          0\n",
       "3   Male   40        107500          1\n",
       "4   Male   25         79000          0"
      ]
     },
     "execution_count": 44,
     "metadata": {},
     "output_type": "execute_result"
    }
   ],
   "source": [
    "cars.head()"
   ]
  },
  {
   "cell_type": "code",
   "execution_count": null,
   "id": "de300abf",
   "metadata": {},
   "outputs": [
    {
     "data": {
      "text/html": [
       "<div>\n",
       "<style scoped>\n",
       "    .dataframe tbody tr th:only-of-type {\n",
       "        vertical-align: middle;\n",
       "    }\n",
       "\n",
       "    .dataframe tbody tr th {\n",
       "        vertical-align: top;\n",
       "    }\n",
       "\n",
       "    .dataframe thead th {\n",
       "        text-align: right;\n",
       "    }\n",
       "</style>\n",
       "<table border=\"1\" class=\"dataframe\">\n",
       "  <thead>\n",
       "    <tr style=\"text-align: right;\">\n",
       "      <th></th>\n",
       "      <th>Age</th>\n",
       "      <th>AnnualSalary</th>\n",
       "      <th>Purchased</th>\n",
       "    </tr>\n",
       "  </thead>\n",
       "  <tbody>\n",
       "    <tr>\n",
       "      <th>Age</th>\n",
       "      <td>1.000000</td>\n",
       "      <td>0.166042</td>\n",
       "      <td>0.616036</td>\n",
       "    </tr>\n",
       "    <tr>\n",
       "      <th>AnnualSalary</th>\n",
       "      <td>0.166042</td>\n",
       "      <td>1.000000</td>\n",
       "      <td>0.364974</td>\n",
       "    </tr>\n",
       "    <tr>\n",
       "      <th>Purchased</th>\n",
       "      <td>0.616036</td>\n",
       "      <td>0.364974</td>\n",
       "      <td>1.000000</td>\n",
       "    </tr>\n",
       "  </tbody>\n",
       "</table>\n",
       "</div>"
      ],
      "text/plain": [
       "                   Age  AnnualSalary  Purchased\n",
       "Age           1.000000      0.166042   0.616036\n",
       "AnnualSalary  0.166042      1.000000   0.364974\n",
       "Purchased     0.616036      0.364974   1.000000"
      ]
     },
     "execution_count": 45,
     "metadata": {},
     "output_type": "execute_result"
    }
   ],
   "source": [
    "cars.corr()"
   ]
  },
  {
   "cell_type": "code",
   "execution_count": null,
   "id": "2ec66a3a",
   "metadata": {},
   "outputs": [
    {
     "data": {
      "text/plain": [
       "<AxesSubplot:>"
      ]
     },
     "execution_count": 46,
     "metadata": {},
     "output_type": "execute_result"
    },
    {
     "data": {
      "image/png": "[encoded data removed]",
      "text/plain": [
       "<Figure size 432x288 with 2 Axes>"
      ]
     },
     "metadata": {
      "needs_background": "light"
     },
     "output_type": "display_data"
    }
   ],
   "source": [
    "sns.heatmap(cars.corr(),annot=True,cmap='Greens')"
   ]
  },
  {
   "cell_type": "code",
   "execution_count": null,
   "id": "673bd4b2",
   "metadata": {},
   "outputs": [
    {
     "data": {
      "text/plain": [
       "<AxesSubplot:>"
      ]
     },
     "execution_count": 47,
     "metadata": {},
     "output_type": "execute_result"
    },
    {
     "data": {
      "image/png": "[encoded data removed]",
      "text/plain": [
       "<Figure size 432x288 with 2 Axes>"
      ]
     },
     "metadata": {
      "needs_background": "light"
     },
     "output_type": "display_data"
    }
   ],
   "source": [
    "sns.heatmap(cars.corr()[['Purchased']],annot=True,cmap='Greens')"
   ]
  },
  {
   "cell_type": "code",
   "execution_count": null,
   "id": "5b574c3a",
   "metadata": {},
   "outputs": [],
   "source": [
    "X = cars[['Age']]\n",
    "y = cars['Purchased']\n",
    "\n",
    "\n"
   ]
  },
  {
   "cell_type": "code",
   "execution_count": null,
   "id": "17c533f8",
   "metadata": {},
   "outputs": [
    {
     "name": "stdout",
     "output_type": "stream",
     "text": [
      "(1000, 1)\n",
      "(1000,)\n"
     ]
    }
   ],
   "source": [
    "print(X.shape)\n",
    "print(y.shape)"
   ]
  },
  {
   "cell_type": "code",
   "execution_count": null,
   "id": "2614795e",
   "metadata": {},
   "outputs": [],
   "source": [
    "X_train,X_test,y_train,y_test = train_test_split(X,y,test_size = 0.33,random_state=42)"
   ]
  },
  {
   "cell_type": "code",
   "execution_count": null,
   "id": "287a985d",
   "metadata": {},
   "outputs": [],
   "source": [
    "cars_logistic = LogisticRegression()"
   ]
  },
  {
   "cell_type": "code",
   "execution_count": null,
   "id": "4d101a90",
   "metadata": {},
   "outputs": [
    {
     "data": {
      "text/plain": [
       "LogisticRegression()"
      ]
     },
     "execution_count": 53,
     "metadata": {},
     "output_type": "execute_result"
    }
   ],
   "source": [
    "cars_logistic.fit(X_train,y_train)"
   ]
  },
  {
   "cell_type": "code",
   "execution_count": null,
   "id": "a1ceb0f2",
   "metadata": {},
   "outputs": [
    {
     "data": {
      "text/plain": [
       "0.8212121212121212"
      ]
     },
     "execution_count": 54,
     "metadata": {},
     "output_type": "execute_result"
    }
   ],
   "source": [
    "cars_logistic.score(X_test,y_test)"
   ]
  },
  {
   "cell_type": "code",
   "execution_count": null,
   "id": "1f1f8062",
   "metadata": {},
   "outputs": [
    {
     "name": "stdout",
     "output_type": "stream",
     "text": [
      "[-7.64047877]\n",
      "[[0.17439077]]\n"
     ]
    }
   ],
   "source": [
    "print(cars_logistic.intercept_)\n",
    "print(cars_logistic.coef_)"
   ]
  },
  {
   "cell_type": "code",
   "execution_count": null,
   "id": "363df172",
   "metadata": {},
   "outputs": [
    {
     "data": {
      "text/plain": [
       "array([0, 1, 0, 1, 1, 1, 1, 0, 0, 0, 0, 0, 0, 0, 1, 1, 1, 1, 1, 0, 0, 0,\n",
       "       1, 0, 1, 0, 1, 1, 0, 1, 0, 1, 1, 0, 1, 1, 0, 0, 0, 0, 0, 1, 0, 0,\n",
       "       1, 0, 0, 1, 0, 0, 0, 0, 0, 1, 0, 1, 1, 0, 0, 1, 0, 1, 0, 1, 1, 0,\n",
       "       0, 0, 1, 0, 1, 0, 0, 0, 1, 1, 0, 0, 0, 0, 0, 0, 0, 0, 0, 0, 1, 0,\n",
       "       0, 0, 0, 1, 0, 0, 1, 1, 1, 0, 0, 1, 0, 1, 1, 1, 1, 0, 0, 1, 1, 1,\n",
       "       0, 0, 1, 1, 1, 0, 1, 1, 0, 0, 0, 1, 1, 0, 1, 0, 1, 0, 0, 1, 0, 0,\n",
       "       1, 0, 1, 1, 0, 0, 0, 0, 1, 0, 0, 0, 1, 0, 0, 0, 0, 0, 1, 0, 0, 0,\n",
       "       0, 0, 0, 0, 1, 1, 0, 0, 0, 1, 1, 0, 1, 0, 0, 0, 0, 0, 1, 0, 0, 0,\n",
       "       1, 0, 1, 0, 0, 1, 0, 0, 0, 1, 1, 1, 1, 1, 1, 0, 1, 1, 0, 0, 0, 1,\n",
       "       0, 1, 0, 1, 0, 0, 0, 0, 1, 0, 0, 0, 0, 0, 1, 1, 0, 1, 0, 1, 1, 1,\n",
       "       1, 0, 0, 0, 1, 1, 0, 1, 0, 0, 0, 1, 0, 0, 0, 0, 1, 0, 0, 0, 0, 0,\n",
       "       0, 0, 1, 0, 0, 0, 1, 1, 0, 0, 1, 1, 0, 1, 0, 0, 0, 1, 0, 0, 0, 0,\n",
       "       1, 0, 0, 0, 0, 1, 0, 0, 1, 1, 0, 0, 0, 0, 1, 0, 0, 0, 0, 0, 1, 1,\n",
       "       1, 0, 1, 0, 0, 1, 1, 0, 0, 1, 0, 0, 0, 0, 1, 1, 0, 0, 1, 1, 1, 0,\n",
       "       1, 1, 0, 1, 1, 0, 0, 1, 0, 0, 0, 0, 1, 0, 0, 0, 1, 1, 1, 1, 1, 0])"
      ]
     },
     "execution_count": 56,
     "metadata": {},
     "output_type": "execute_result"
    }
   ],
   "source": [
    "cars_logistic.predict(X_test)"
   ]
  },
  {
   "cell_type": "code",
   "execution_count": null,
   "id": "0ed3f218",
   "metadata": {},
   "outputs": [
    {
     "data": {
      "text/plain": [
       "(330, 1)"
      ]
     },
     "execution_count": 57,
     "metadata": {},
     "output_type": "execute_result"
    }
   ],
   "source": [
    "X_test.shape"
   ]
  },
  {
   "cell_type": "code",
   "execution_count": null,
   "id": "0642fece",
   "metadata": {},
   "outputs": [
    {
     "data": {
      "text/plain": [
       "array([[0.62, 0.38],\n",
       "       [0.07, 0.93],\n",
       "       [0.96, 0.04],\n",
       "       [0.36, 0.64],\n",
       "       [0.41, 0.59],\n",
       "       [0.17, 0.83],\n",
       "       [0.12, 0.88],\n",
       "       [0.8 , 0.2 ],\n",
       "       [0.62, 0.38],\n",
       "       [0.89, 0.11],\n",
       "       [0.62, 0.38],\n",
       "       [0.94, 0.06],\n",
       "       [0.66, 0.34],\n",
       "       [0.82, 0.18],\n",
       "       [0.25, 0.75],\n",
       "       [0.45, 0.55],\n",
       "       [0.36, 0.64],\n",
       "       [0.12, 0.88],\n",
       "       [0.33, 0.67],\n",
       "       [0.98, 0.02],\n",
       "       [0.8 , 0.2 ],\n",
       "       [0.7 , 0.3 ],\n",
       "       [0.41, 0.59],\n",
       "       [0.95, 0.05],\n",
       "       [0.14, 0.86],\n",
       "       [0.66, 0.34],\n",
       "       [0.25, 0.75],\n",
       "       [0.33, 0.67],\n",
       "       [0.82, 0.18],\n",
       "       [0.22, 0.78],\n",
       "       [0.58, 0.42],\n",
       "       [0.04, 0.96],\n",
       "       [0.29, 0.71],\n",
       "       [0.95, 0.05],\n",
       "       [0.33, 0.67],\n",
       "       [0.49, 0.51],\n",
       "       [0.96, 0.04],\n",
       "       [0.62, 0.38],\n",
       "       [0.7 , 0.3 ],\n",
       "       [0.82, 0.18],\n",
       "       [0.58, 0.42],\n",
       "       [0.45, 0.55],\n",
       "       [0.95, 0.05],\n",
       "       [0.98, 0.02],\n",
       "       [0.29, 0.71],\n",
       "       [0.73, 0.27],\n",
       "       [0.93, 0.07],\n",
       "       [0.17, 0.83],\n",
       "       [0.73, 0.27],\n",
       "       [0.7 , 0.3 ],\n",
       "       [0.89, 0.11],\n",
       "       [0.66, 0.34],\n",
       "       [0.66, 0.34],\n",
       "       [0.41, 0.59],\n",
       "       [0.62, 0.38],\n",
       "       [0.45, 0.55],\n",
       "       [0.06, 0.94],\n",
       "       [0.58, 0.42],\n",
       "       [0.58, 0.42],\n",
       "       [0.17, 0.83],\n",
       "       [0.98, 0.02],\n",
       "       [0.29, 0.71],\n",
       "       [0.89, 0.11],\n",
       "       [0.04, 0.96],\n",
       "       [0.49, 0.51],\n",
       "       [0.66, 0.34],\n",
       "       [0.92, 0.08],\n",
       "       [0.7 , 0.3 ],\n",
       "       [0.45, 0.55],\n",
       "       [0.82, 0.18],\n",
       "       [0.36, 0.64],\n",
       "       [0.73, 0.27],\n",
       "       [0.62, 0.38],\n",
       "       [0.77, 0.23],\n",
       "       [0.11, 0.89],\n",
       "       [0.45, 0.55],\n",
       "       [0.77, 0.23],\n",
       "       [0.96, 0.04],\n",
       "       [0.66, 0.34],\n",
       "       [0.66, 0.34],\n",
       "       [0.82, 0.18],\n",
       "       [0.82, 0.18],\n",
       "       [0.82, 0.18],\n",
       "       [0.54, 0.46],\n",
       "       [0.8 , 0.2 ],\n",
       "       [0.8 , 0.2 ],\n",
       "       [0.33, 0.67],\n",
       "       [0.66, 0.34],\n",
       "       [0.94, 0.06],\n",
       "       [0.97, 0.03],\n",
       "       [0.99, 0.01],\n",
       "       [0.17, 0.83],\n",
       "       [0.96, 0.04],\n",
       "       [0.98, 0.02],\n",
       "       [0.03, 0.97],\n",
       "       [0.36, 0.64],\n",
       "       [0.45, 0.55],\n",
       "       [0.92, 0.08],\n",
       "       [0.73, 0.27],\n",
       "       [0.45, 0.55],\n",
       "       [0.87, 0.13],\n",
       "       [0.22, 0.78],\n",
       "       [0.25, 0.75],\n",
       "       [0.09, 0.91],\n",
       "       [0.14, 0.86],\n",
       "       [0.58, 0.42],\n",
       "       [0.94, 0.06],\n",
       "       [0.33, 0.67],\n",
       "       [0.03, 0.97],\n",
       "       [0.22, 0.78],\n",
       "       [0.97, 0.03],\n",
       "       [0.66, 0.34],\n",
       "       [0.45, 0.55],\n",
       "       [0.06, 0.94],\n",
       "       [0.29, 0.71],\n",
       "       [0.73, 0.27],\n",
       "       [0.11, 0.89],\n",
       "       [0.06, 0.94],\n",
       "       [0.9 , 0.1 ],\n",
       "       [0.54, 0.46],\n",
       "       [0.54, 0.46],\n",
       "       [0.25, 0.75],\n",
       "       [0.06, 0.94],\n",
       "       [0.58, 0.42],\n",
       "       [0.09, 0.91],\n",
       "       [0.92, 0.08],\n",
       "       [0.45, 0.55],\n",
       "       [0.8 , 0.2 ],\n",
       "       [0.97, 0.03],\n",
       "       [0.41, 0.59],\n",
       "       [0.96, 0.04],\n",
       "       [0.98, 0.02],\n",
       "       [0.29, 0.71],\n",
       "       [0.73, 0.27],\n",
       "       [0.36, 0.64],\n",
       "       [0.29, 0.71],\n",
       "       [0.92, 0.08],\n",
       "       [0.97, 0.03],\n",
       "       [0.97, 0.03],\n",
       "       [0.98, 0.02],\n",
       "       [0.29, 0.71],\n",
       "       [0.94, 0.06],\n",
       "       [0.99, 0.01],\n",
       "       [0.94, 0.06],\n",
       "       [0.08, 0.92],\n",
       "       [0.7 , 0.3 ],\n",
       "       [0.54, 0.46],\n",
       "       [0.9 , 0.1 ],\n",
       "       [0.54, 0.46],\n",
       "       [0.8 , 0.2 ],\n",
       "       [0.33, 0.67],\n",
       "       [0.92, 0.08],\n",
       "       [0.9 , 0.1 ],\n",
       "       [0.94, 0.06],\n",
       "       [0.66, 0.34],\n",
       "       [0.99, 0.01],\n",
       "       [0.96, 0.04],\n",
       "       [0.58, 0.42],\n",
       "       [0.25, 0.75],\n",
       "       [0.19, 0.81],\n",
       "       [0.93, 0.07],\n",
       "       [0.62, 0.38],\n",
       "       [0.66, 0.34],\n",
       "       [0.22, 0.78],\n",
       "       [0.29, 0.71],\n",
       "       [0.8 , 0.2 ],\n",
       "       [0.25, 0.75],\n",
       "       [0.8 , 0.2 ],\n",
       "       [0.77, 0.23],\n",
       "       [0.95, 0.05],\n",
       "       [0.85, 0.15],\n",
       "       [0.85, 0.15],\n",
       "       [0.05, 0.95],\n",
       "       [0.95, 0.05],\n",
       "       [0.96, 0.04],\n",
       "       [0.73, 0.27],\n",
       "       [0.25, 0.75],\n",
       "       [0.92, 0.08],\n",
       "       [0.06, 0.94],\n",
       "       [0.54, 0.46],\n",
       "       [0.62, 0.38],\n",
       "       [0.09, 0.91],\n",
       "       [0.54, 0.46],\n",
       "       [0.58, 0.42],\n",
       "       [0.8 , 0.2 ],\n",
       "       [0.33, 0.67],\n",
       "       [0.33, 0.67],\n",
       "       [0.08, 0.92],\n",
       "       [0.29, 0.71],\n",
       "       [0.06, 0.94],\n",
       "       [0.29, 0.71],\n",
       "       [0.73, 0.27],\n",
       "       [0.45, 0.55],\n",
       "       [0.36, 0.64],\n",
       "       [0.54, 0.46],\n",
       "       [0.96, 0.04],\n",
       "       [0.87, 0.13],\n",
       "       [0.45, 0.55],\n",
       "       [0.96, 0.04],\n",
       "       [0.09, 0.91],\n",
       "       [0.73, 0.27],\n",
       "       [0.07, 0.93],\n",
       "       [0.82, 0.18],\n",
       "       [0.54, 0.46],\n",
       "       [0.9 , 0.1 ],\n",
       "       [0.95, 0.05],\n",
       "       [0.08, 0.92],\n",
       "       [0.73, 0.27],\n",
       "       [0.54, 0.46],\n",
       "       [0.77, 0.23],\n",
       "       [0.82, 0.18],\n",
       "       [0.66, 0.34],\n",
       "       [0.25, 0.75],\n",
       "       [0.45, 0.55],\n",
       "       [0.62, 0.38],\n",
       "       [0.09, 0.91],\n",
       "       [0.93, 0.07],\n",
       "       [0.08, 0.92],\n",
       "       [0.12, 0.88],\n",
       "       [0.29, 0.71],\n",
       "       [0.29, 0.71],\n",
       "       [0.94, 0.06],\n",
       "       [0.97, 0.03],\n",
       "       [0.66, 0.34],\n",
       "       [0.29, 0.71],\n",
       "       [0.29, 0.71],\n",
       "       [0.66, 0.34],\n",
       "       [0.19, 0.81],\n",
       "       [0.77, 0.23],\n",
       "       [0.66, 0.34],\n",
       "       [0.77, 0.23],\n",
       "       [0.17, 0.83],\n",
       "       [0.73, 0.27],\n",
       "       [0.96, 0.04],\n",
       "       [0.62, 0.38],\n",
       "       [0.89, 0.11],\n",
       "       [0.22, 0.78],\n",
       "       [0.62, 0.38],\n",
       "       [0.96, 0.04],\n",
       "       [0.94, 0.06],\n",
       "       [0.66, 0.34],\n",
       "       [0.82, 0.18],\n",
       "       [0.73, 0.27],\n",
       "       [0.58, 0.42],\n",
       "       [0.12, 0.88],\n",
       "       [0.54, 0.46],\n",
       "       [0.98, 0.02],\n",
       "       [0.85, 0.15],\n",
       "       [0.07, 0.93],\n",
       "       [0.45, 0.55],\n",
       "       [0.58, 0.42],\n",
       "       [0.92, 0.08],\n",
       "       [0.36, 0.64],\n",
       "       [0.09, 0.91],\n",
       "       [0.7 , 0.3 ],\n",
       "       [0.45, 0.55],\n",
       "       [0.97, 0.03],\n",
       "       [0.97, 0.03],\n",
       "       [0.93, 0.07],\n",
       "       [0.36, 0.64],\n",
       "       [0.92, 0.08],\n",
       "       [0.66, 0.34],\n",
       "       [0.96, 0.04],\n",
       "       [0.98, 0.02],\n",
       "       [0.19, 0.81],\n",
       "       [0.9 , 0.1 ],\n",
       "       [0.97, 0.03],\n",
       "       [0.8 , 0.2 ],\n",
       "       [0.96, 0.04],\n",
       "       [0.45, 0.55],\n",
       "       [0.87, 0.13],\n",
       "       [0.82, 0.18],\n",
       "       [0.36, 0.64],\n",
       "       [0.09, 0.91],\n",
       "       [0.98, 0.02],\n",
       "       [0.62, 0.38],\n",
       "       [0.7 , 0.3 ],\n",
       "       [0.94, 0.06],\n",
       "       [0.17, 0.83],\n",
       "       [0.58, 0.42],\n",
       "       [0.99, 0.01],\n",
       "       [0.73, 0.27],\n",
       "       [0.95, 0.05],\n",
       "       [0.96, 0.04],\n",
       "       [0.29, 0.71],\n",
       "       [0.41, 0.59],\n",
       "       [0.04, 0.96],\n",
       "       [0.58, 0.42],\n",
       "       [0.12, 0.88],\n",
       "       [0.95, 0.05],\n",
       "       [0.58, 0.42],\n",
       "       [0.29, 0.71],\n",
       "       [0.41, 0.59],\n",
       "       [0.73, 0.27],\n",
       "       [0.93, 0.07],\n",
       "       [0.07, 0.93],\n",
       "       [0.82, 0.18],\n",
       "       [0.58, 0.42],\n",
       "       [0.58, 0.42],\n",
       "       [0.8 , 0.2 ],\n",
       "       [0.25, 0.75],\n",
       "       [0.36, 0.64],\n",
       "       [0.58, 0.42],\n",
       "       [0.94, 0.06],\n",
       "       [0.33, 0.67],\n",
       "       [0.41, 0.59],\n",
       "       [0.07, 0.93],\n",
       "       [0.62, 0.38],\n",
       "       [0.36, 0.64],\n",
       "       [0.49, 0.51],\n",
       "       [0.93, 0.07],\n",
       "       [0.29, 0.71],\n",
       "       [0.49, 0.51],\n",
       "       [0.95, 0.05],\n",
       "       [0.96, 0.04],\n",
       "       [0.36, 0.64],\n",
       "       [0.66, 0.34],\n",
       "       [0.96, 0.04],\n",
       "       [0.62, 0.38],\n",
       "       [0.98, 0.02],\n",
       "       [0.25, 0.75],\n",
       "       [0.62, 0.38],\n",
       "       [0.94, 0.06],\n",
       "       [0.99, 0.01],\n",
       "       [0.07, 0.93],\n",
       "       [0.11, 0.89],\n",
       "       [0.33, 0.67],\n",
       "       [0.17, 0.83],\n",
       "       [0.22, 0.78],\n",
       "       [0.8 , 0.2 ]])"
      ]
     },
     "execution_count": 58,
     "metadata": {},
     "output_type": "execute_result"
    }
   ],
   "source": [
    "Z_proba = np.round(cars_logistic.predict_proba(X_test),2)\n",
    "Z_proba\n",
    "\n"
   ]
  },
  {
   "cell_type": "code",
   "execution_count": null,
   "id": "462814fb",
   "metadata": {},
   "outputs": [
    {
     "data": {
      "text/plain": [
       "0.8059701492537313"
      ]
     },
     "execution_count": 59,
     "metadata": {},
     "output_type": "execute_result"
    }
   ],
   "source": [
    "cars_logistic.score(X_train, y_train)"
   ]
  },
  {
   "cell_type": "code",
   "execution_count": null,
   "id": "d50d0496",
   "metadata": {},
   "outputs": [
    {
     "data": {
      "text/plain": [
       "0.8212121212121212"
      ]
     },
     "execution_count": 60,
     "metadata": {},
     "output_type": "execute_result"
    }
   ],
   "source": [
    "cars_logistic.score(X_test, y_test)"
   ]
  },
  {
   "cell_type": "code",
   "execution_count": null,
   "id": "1d5606f5",
   "metadata": {},
   "outputs": [
    {
     "data": {
      "text/plain": [
       "<AxesSubplot:xlabel='Age', ylabel='Purchased'>"
      ]
     },
     "execution_count": 65,
     "metadata": {},
     "output_type": "execute_result"
    },
    {
     "data": {
      "image/png": "[encoded data removed]",
      "text/plain": [
       "<Figure size 720x360 with 1 Axes>"
      ]
     },
     "metadata": {
      "needs_background": "light"
     },
     "output_type": "display_data"
    }
   ],
   "source": [
    "plt.figure(figsize = (10, 5))\n",
    "x = X_test\n",
    "y = y_test\n",
    "\n",
    "#plot logistic regression curve\n",
    "sns.regplot(x=x, y=y, data=cars_logistic, logistic=True, ci=None, scatter_kws={'color': 'black'}, line_kws={'color': 'red'})"
   ]
  },
  {
   "cell_type": "markdown",
   "id": "6ca2de3b",
   "metadata": {},
   "source": [
    "#### K-nearest neighbour "
   ]
  },
  {
   "cell_type": "code",
   "execution_count": 88,
   "id": "8c0a1d3c",
   "metadata": {},
   "outputs": [],
   "source": [
    "X_knn = cars[['Age']]\n",
    "y_knn = cars['Purchased']\n",
    "\n"
   ]
  },
  {
   "cell_type": "code",
   "execution_count": 89,
   "id": "bdd8779b",
   "metadata": {},
   "outputs": [
    {
     "data": {
      "text/plain": [
       "(1000, 1)"
      ]
     },
     "execution_count": 89,
     "metadata": {},
     "output_type": "execute_result"
    }
   ],
   "source": [
    "X_knn.shape"
   ]
  },
  {
   "cell_type": "code",
   "execution_count": 90,
   "id": "109c70fe",
   "metadata": {},
   "outputs": [
    {
     "data": {
      "text/plain": [
       "(1000,)"
      ]
     },
     "execution_count": 90,
     "metadata": {},
     "output_type": "execute_result"
    }
   ],
   "source": [
    "y_knn.shape"
   ]
  },
  {
   "cell_type": "code",
   "execution_count": 93,
   "id": "b4bed8a1",
   "metadata": {},
   "outputs": [],
   "source": [
    "X_train, X_test, y_train, y_test = train_test_split(X_knn, y_knn , random_state=42)"
   ]
  },
  {
   "cell_type": "code",
   "execution_count": 96,
   "id": "7f667d10",
   "metadata": {},
   "outputs": [],
   "source": [
    "ss = StandardScaler()\n",
    "X_train_ss= ss.fit_transform(X_train) \n",
    "X_test_ss= ss.transform(X_test)"
   ]
  },
  {
   "cell_type": "code",
   "execution_count": 97,
   "id": "b0807ab3",
   "metadata": {},
   "outputs": [],
   "source": [
    "knn = KNeighborsClassifier()"
   ]
  },
  {
   "cell_type": "code",
   "execution_count": 98,
   "id": "e3108030",
   "metadata": {},
   "outputs": [
    {
     "data": {
      "text/plain": [
       "KNeighborsClassifier()"
      ]
     },
     "execution_count": 98,
     "metadata": {},
     "output_type": "execute_result"
    }
   ],
   "source": [
    "knn.fit(X_train_ss,y_train)"
   ]
  },
  {
   "cell_type": "code",
   "execution_count": 100,
   "id": "70028de4",
   "metadata": {},
   "outputs": [
    {
     "name": "stdout",
     "output_type": "stream",
     "text": [
      "0.792\n",
      "0.788\n"
     ]
    }
   ],
   "source": [
    "print(f'{knn.score(X_train_ss,y_train)}')\n",
    "print(f'{knn.score(X_test_ss,y_test)}')"
   ]
  },
  {
   "cell_type": "markdown",
   "id": "2ce730f2",
   "metadata": {},
   "source": [
    "#### Confusion Matrix - to determine best threshold values to indicate if it is a False Positive or True Positive."
   ]
  },
  {
   "cell_type": "code",
   "execution_count": 102,
   "id": "bb9d9310",
   "metadata": {},
   "outputs": [
    {
     "data": {
      "text/plain": [
       "array([0, 1, 0, 1, 1, 1, 1, 0, 0, 1, 0, 0, 0, 0, 1, 1, 1, 1, 1, 0, 0, 1,\n",
       "       1, 0, 1, 0, 1, 1, 0, 1, 0, 1, 1, 0, 1, 0, 0, 0, 1, 0, 0, 1, 0, 0,\n",
       "       1, 0, 0, 1, 0, 1, 1, 0, 0, 1, 0, 1, 1, 0, 0, 1, 0, 1, 1, 1, 0, 0,\n",
       "       0, 1, 1, 0, 1, 0, 0, 1, 1, 1, 1, 0, 0, 0, 0, 0, 0, 0, 0, 0, 1, 0,\n",
       "       0, 0, 0, 1, 0, 0, 1, 1, 1, 0, 0, 1, 0, 1, 1, 1, 1, 0, 0, 1, 1, 1,\n",
       "       0, 0, 1, 1, 1, 0, 1, 1, 0, 0, 0, 1, 1, 0, 1, 0, 1, 0, 0, 1, 0, 0,\n",
       "       1, 0, 1, 1, 0, 0, 0, 0, 1, 0, 0, 0, 1, 1, 0, 0, 0, 0, 1, 0, 0, 0,\n",
       "       0, 0, 0, 0, 1, 1, 0, 0, 0, 1, 1, 0, 1, 0, 1, 0, 0, 0, 1, 0, 0, 0,\n",
       "       1, 0, 1, 0, 0, 1, 0, 0, 0, 1, 1, 1, 1, 1, 1, 0, 1, 1, 0, 0, 0, 1,\n",
       "       0, 1, 0, 1, 0, 0, 0, 0, 1, 0, 0, 1, 0, 0, 1, 1, 0, 1, 0, 1, 1, 1,\n",
       "       1, 0, 0, 0, 1, 1, 0, 1, 1, 0, 1, 1, 0, 0, 0, 1, 1, 0, 0, 0, 0, 0,\n",
       "       0, 0, 1, 0, 0, 0, 1, 1])"
      ]
     },
     "execution_count": 102,
     "metadata": {},
     "output_type": "execute_result"
    }
   ],
   "source": [
    "y_predict = knn.predict(X_test_ss)\n",
    "y_predict"
   ]
  },
  {
   "cell_type": "code",
   "execution_count": 103,
   "id": "92ff8abd",
   "metadata": {},
   "outputs": [
    {
     "data": {
      "text/plain": [
       "521    0\n",
       "737    1\n",
       "740    0\n",
       "660    1\n",
       "411    0\n",
       "      ..\n",
       "109    1\n",
       "430    0\n",
       "77     0\n",
       "84     1\n",
       "286    1\n",
       "Name: Purchased, Length: 250, dtype: int64"
      ]
     },
     "execution_count": 103,
     "metadata": {},
     "output_type": "execute_result"
    }
   ],
   "source": [
    "y_test"
   ]
  },
  {
   "cell_type": "code",
   "execution_count": 104,
   "id": "c9c90912",
   "metadata": {},
   "outputs": [
    {
     "data": {
      "text/plain": [
       "array([[112,  27],\n",
       "       [ 26,  85]])"
      ]
     },
     "execution_count": 104,
     "metadata": {},
     "output_type": "execute_result"
    }
   ],
   "source": [
    "cm = confusion_matrix(y_predict, y_test)\n",
    "cm"
   ]
  },
  {
   "cell_type": "code",
   "execution_count": 105,
   "id": "220764e6",
   "metadata": {},
   "outputs": [],
   "source": [
    "tn, fp, fn , tp = confusion_matrix(y_test,y_predict).ravel()"
   ]
  },
  {
   "cell_type": "code",
   "execution_count": 106,
   "id": "b1d9f0ed",
   "metadata": {},
   "outputs": [
    {
     "name": "stderr",
     "output_type": "stream",
     "text": [
      "/Users/gracechongzuting/opt/anaconda3/lib/python3.9/site-packages/sklearn/utils/deprecation.py:87: FutureWarning: Function plot_confusion_matrix is deprecated; Function `plot_confusion_matrix` is deprecated in 1.0 and will be removed in 1.2. Use one of the class methods: ConfusionMatrixDisplay.from_predictions or ConfusionMatrixDisplay.from_estimator.\n",
      "  warnings.warn(msg, category=FutureWarning)\n"
     ]
    },
    {
     "data": {
      "text/plain": [
       "<sklearn.metrics._plot.confusion_matrix.ConfusionMatrixDisplay at 0x7fcd1a2cdaf0>"
      ]
     },
     "execution_count": 106,
     "metadata": {},
     "output_type": "execute_result"
    },
    {
     "data": {
      "image/png": "[encoded data removed]",
      "text/plain": [
       "<Figure size 432x288 with 2 Axes>"
      ]
     },
     "metadata": {
      "needs_background": "light"
     },
     "output_type": "display_data"
    }
   ],
   "source": [
    "from sklearn.metrics._plot.confusion_matrix import plot_confusion_matrix\n",
    "\n",
    "plot_confusion_matrix(knn,X_test_ss,y_test,cmap='Greens',\n",
    "                      values_format = 'd', display_labels=['1','0'])"
   ]
  },
  {
   "cell_type": "markdown",
   "id": "51132260",
   "metadata": {},
   "source": [
    "##### to have a much better visualisation, we create a dataframe."
   ]
  },
  {
   "cell_type": "code",
   "execution_count": 108,
   "id": "dbba4283",
   "metadata": {},
   "outputs": [
    {
     "data": {
      "text/html": [
       "<div>\n",
       "<style scoped>\n",
       "    .dataframe tbody tr th:only-of-type {\n",
       "        vertical-align: middle;\n",
       "    }\n",
       "\n",
       "    .dataframe tbody tr th {\n",
       "        vertical-align: top;\n",
       "    }\n",
       "\n",
       "    .dataframe thead th {\n",
       "        text-align: right;\n",
       "    }\n",
       "</style>\n",
       "<table border=\"1\" class=\"dataframe\">\n",
       "  <thead>\n",
       "    <tr style=\"text-align: right;\">\n",
       "      <th></th>\n",
       "      <th>Predicted Positive</th>\n",
       "      <th>Predicted Negative</th>\n",
       "    </tr>\n",
       "  </thead>\n",
       "  <tbody>\n",
       "    <tr>\n",
       "      <th>True Positive</th>\n",
       "      <td>112</td>\n",
       "      <td>27</td>\n",
       "    </tr>\n",
       "    <tr>\n",
       "      <th>True Negative</th>\n",
       "      <td>26</td>\n",
       "      <td>85</td>\n",
       "    </tr>\n",
       "  </tbody>\n",
       "</table>\n",
       "</div>"
      ],
      "text/plain": [
       "               Predicted Positive  Predicted Negative\n",
       "True Positive                 112                  27\n",
       "True Negative                  26                  85"
      ]
     },
     "execution_count": 108,
     "metadata": {},
     "output_type": "execute_result"
    }
   ],
   "source": [
    "cm_df = pd.DataFrame(cm , columns=['Predicted Positive','Predicted Negative'], index= ['True Positive','True Negative'])\n",
    "cm_df"
   ]
  },
  {
   "cell_type": "code",
   "execution_count": 109,
   "id": "f029b44f",
   "metadata": {},
   "outputs": [
    {
     "name": "stdout",
     "output_type": "stream",
     "text": [
      "the accuracy_score is 0.788\n",
      "the recall_score is 0.7589285714285714\n",
      "the precision_score is 0.7657657657657657\n"
     ]
    }
   ],
   "source": [
    "from sklearn.metrics import accuracy_score,recall_score,precision_score,roc_curve,plot_roc_curve\n",
    "\n",
    "\n",
    "\n",
    "print(f'the accuracy_score is {accuracy_score(y_test, y_predict)}')\n",
    "print(f'the recall_score is {recall_score(y_test,y_predict)}')\n",
    "print(f'the precision_score is {precision_score(y_test, y_predict)}')"
   ]
  },
  {
   "cell_type": "code",
   "execution_count": 110,
   "id": "652cbfb1",
   "metadata": {},
   "outputs": [
    {
     "name": "stderr",
     "output_type": "stream",
     "text": [
      "/Users/gracechongzuting/opt/anaconda3/lib/python3.9/site-packages/sklearn/utils/deprecation.py:87: FutureWarning: Function plot_roc_curve is deprecated; Function :func:`plot_roc_curve` is deprecated in 1.0 and will be removed in 1.2. Use one of the class methods: :meth:`sklearn.metric.RocCurveDisplay.from_predictions` or :meth:`sklearn.metric.RocCurveDisplay.from_estimator`.\n",
      "  warnings.warn(msg, category=FutureWarning)\n"
     ]
    },
    {
     "data": {
      "text/plain": [
       "Text(0, 0.5, 'True Positive Rate = Sensitivity')"
      ]
     },
     "execution_count": 110,
     "metadata": {},
     "output_type": "execute_result"
    },
    {
     "data": {
      "image/png": "[encoded data removed]",
      "text/plain": [
       "<Figure size 432x288 with 1 Axes>"
      ]
     },
     "metadata": {
      "needs_background": "light"
     },
     "output_type": "display_data"
    }
   ],
   "source": [
    "plot_roc_curve(knn,X_test_ss,y_test)\n",
    "plt.plot ([0,1],[0,1],\n",
    "          label = 'baseline', linestyle='--' )\n",
    "plt.legend()\n",
    "plt.xlabel('False Positive Rate = 1- Specificity')\n",
    "plt.ylabel('True Positive Rate = Sensitivity')"
   ]
  }
 ],
 "metadata": {
  "kernelspec": {
   "display_name": "Python 3.9.12 ('base')",
   "language": "python",
   "name": "python3"
  },
  "language_info": {
   "codemirror_mode": {
    "name": "ipython",
    "version": 3
   },
   "file_extension": ".py",
   "mimetype": "text/x-python",
   "name": "python",
   "nbconvert_exporter": "python",
   "pygments_lexer": "ipython3",
   "version": "3.9.12"
  },
  "vscode": {
   "interpreter": {
    "hash": "a0e05950b156e14bfd14a3986910df437e0c0ff6f27fa95973a8b83e252441dd"
   }
  }
 },
 "nbformat": 4,
 "nbformat_minor": 5
}
